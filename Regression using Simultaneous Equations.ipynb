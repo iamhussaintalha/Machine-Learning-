{
 "cells": [
  {
   "cell_type": "markdown",
   "id": "8cae0253",
   "metadata": {},
   "source": [
    "#  Results\n",
    "## Linear :\n",
    "\n",
    "Simple and may underperform for complex patterns.A straight line to the data.\n",
    "\n",
    "## Quadratic :\n",
    "\n",
    "Captures curved relationships better than linear regression.Fits a 2 dimensional curve.\n",
    "\n",
    "## Cubic :\n",
    "\n",
    "Captures more complex curvature .Fits a cubic curve.\n",
    "\n",
    "\n",
    "## Fourth Degree :\n",
    "\n",
    "Captures even more complex patterns.Fits a fourth-degree polynomial.\n",
    "\n",
    "\n",
    "## Fifth Degree :\n",
    "\n",
    "Captures very complex patterns.Fits a fifth-degree polynomial.\n",
    "\n",
    "\n",
    "## Sixth Degree :\n",
    "\n",
    "Captures extremely complex patterns but can overfit.Fits a sixth-degree polynomial.\n",
    "\n",
    "## final coments\n",
    "To comments on the result which model is best we have to compare the mean square error for the both training data and testing data ,lower error mean better model performance .Analyze which model is best or not wheather is overfitting or not or may be it is underfit or not .\n"
   ]
  }
 ],
 "metadata": {
  "kernelspec": {
   "display_name": "Python 3 (ipykernel)",
   "language": "python",
   "name": "python3"
  },
  "language_info": {
   "codemirror_mode": {
    "name": "ipython",
    "version": 3
   },
   "file_extension": ".py",
   "mimetype": "text/x-python",
   "name": "python",
   "nbconvert_exporter": "python",
   "pygments_lexer": "ipython3",
   "version": "3.11.5"
  }
 },
 "nbformat": 4,
 "nbformat_minor": 5
}
